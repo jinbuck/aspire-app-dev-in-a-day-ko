{
 "cells": [
  {
   "cell_type": "code",
   "execution_count": 2,
   "metadata": {
    "vscode": {
     "languageId": "polyglot-notebook"
    }
   },
   "outputs": [
    {
     "data": {
      "text/html": [
       "<div><div></div><div></div><div><strong>Installed Packages</strong><ul><li><span>MelonChart.NET, 2.0.0</span></li><li><span>Microsoft.SemanticKernel, 1.16.1</span></li><li><span>Microsoft.SemanticKernel.Connectors.OpenAI, 1.16.1</span></li><li><span>Microsoft.SemanticKernel.Core, 1.16.1</span></li><li><span>Microsoft.SemanticKernel.Plugins.Core, 1.16.1-alpha</span></li><li><span>Microsoft.SemanticKernel.Plugins.Memory, 1.16.1-alpha</span></li><li><span>System.Linq.Async, 6.0.1</span></li></ul></div></div>"
      ]
     },
     "metadata": {},
     "output_type": "display_data"
    }
   ],
   "source": [
    "// Nuget Packages\n",
    "#r \"nuget: MelonChart.NET, 2.*\"\n",
    "\n",
    "#r \"nuget: Microsoft.SemanticKernel, 1.*\"\n",
    "#r \"nuget: Microsoft.SemanticKernel.Connectors.OpenAI, 1.*\"\n",
    "#r \"nuget: Microsoft.SemanticKernel.Core, 1.*\"\n",
    "#r \"nuget: Microsoft.SemanticKernel.Plugins.Core, 1.*-*\"\n",
    "#r \"nuget: Microsoft.SemanticKernel.Plugins.Memory, 1.*-*\"\n",
    "\n",
    "#r \"nuget: System.Linq.Async, 6.*\""
   ]
  },
  {
   "cell_type": "code",
   "execution_count": 3,
   "metadata": {
    "vscode": {
     "languageId": "polyglot-notebook"
    }
   },
   "outputs": [],
   "source": [
    "// Add using statements\n",
    "using System.ComponentModel;\n",
    "using System.Net.Http;\n",
    "using System.Text.Encodings.Web;\n",
    "using System.Text.Json;\n",
    "using System.Text.Json.Serialization;\n",
    "\n",
    "using MelonChart.Models;\n",
    "\n",
    "using Microsoft.SemanticKernel;\n",
    "using Microsoft.SemanticKernel.Connectors.OpenAI;\n",
    "using Microsoft.SemanticKernel.Memory;\n",
    "\n",
    "using Kernel = Microsoft.SemanticKernel.Kernel;"
   ]
  },
  {
   "cell_type": "code",
   "execution_count": 7,
   "metadata": {
    "vscode": {
     "languageId": "polyglot-notebook"
    }
   },
   "outputs": [],
   "source": [
    "// Azure OpenAI configurations\n",
    "var endpoint = \"https://polite-ground-030dc3103.4.azurestaticapps.net/api/v1\";\n",
    "var apiKey = \"a5977ee0-653e-4b5d-87fb-98c988174e57\";\n",
    "var deploymentName = \"model-gpt35turbo16k-0613\";"
   ]
  },
  {
   "cell_type": "code",
   "execution_count": 24,
   "metadata": {
    "vscode": {
     "languageId": "polyglot-notebook"
    }
   },
   "outputs": [],
   "source": [
    "// Build Semantic Kernel\n",
    "var kernel = Kernel.CreateBuilder()\n",
    "                   .AddAzureOpenAIChatCompletion(\n",
    "                       deploymentName: deploymentName,\n",
    "                       endpoint: endpoint,\n",
    "                       apiKey: apiKey)\n",
    "                   .Build();"
   ]
  },
  {
   "cell_type": "code",
   "execution_count": 25,
   "metadata": {
    "vscode": {
     "languageId": "polyglot-notebook"
    }
   },
   "outputs": [
    {
     "name": "stdout",
     "output_type": "stream",
     "text": [
      "User: 석촌동 이름 유래 알려주세요.\r\n"
     ]
    }
   ],
   "source": [
    "// User input\n",
    "var question = await Microsoft.DotNet.Interactive.Kernel.GetInputAsync(\"무엇이 궁금한가요?\");\n",
    "\n",
    "Console.WriteLine($\"User: {question}\");"
   ]
  },
  {
   "cell_type": "code",
   "execution_count": 27,
   "metadata": {
    "vscode": {
     "languageId": "polyglot-notebook"
    }
   },
   "outputs": [
    {
     "name": "stdout",
     "output_type": "stream",
     "text": [
      "Unknown\r\n"
     ]
    }
   ],
   "source": [
    "// Invoke the prompt - GetIntent\n",
    "var intent = await kernel.InvokeAsync<string>(\n",
    "                        function: prompts[\"GetIntent\"],\n",
    "                        arguments: new KernelArguments()\n",
    "                        {\n",
    "                            { \"input\", question }\n",
    "                        });\n",
    "\n",
    "Console.WriteLine(intent);"
   ]
  },
  {
   "cell_type": "code",
   "execution_count": 26,
   "metadata": {
    "vscode": {
     "languageId": "polyglot-notebook"
    }
   },
   "outputs": [],
   "source": [
    "// Import prompts\n",
    "var prompts = kernel.ImportPluginFromPromptDirectory(\"Prompts\");\n"
   ]
  }
 ],
 "metadata": {
  "kernelspec": {
   "display_name": ".NET (C#)",
   "language": "C#",
   "name": ".net-csharp"
  },
  "language_info": {
   "name": "python"
  },
  "polyglot_notebook": {
   "kernelInfo": {
    "defaultKernelName": "csharp",
    "items": [
     {
      "aliases": [],
      "name": "csharp"
     }
    ]
   }
  }
 },
 "nbformat": 4,
 "nbformat_minor": 2
}
